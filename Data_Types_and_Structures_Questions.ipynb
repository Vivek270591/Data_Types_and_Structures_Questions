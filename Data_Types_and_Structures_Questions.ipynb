{
  "nbformat": 4,
  "nbformat_minor": 0,
  "metadata": {
    "colab": {
      "provenance": []
    },
    "kernelspec": {
      "name": "python3",
      "display_name": "Python 3"
    },
    "language_info": {
      "name": "python"
    }
  },
  "cells": [
    {
      "cell_type": "markdown",
      "source": [
        "Data Types and Structures Questions\n",
        "\n",
        "'''1. What are data structures, and why are they important?\n",
        "\n",
        "Answer:\n",
        "Data structures are ways of organizing and storing data efficiently to perform operations such as insertion, deletion, and searching in an optimal way. They are important because they provide a means to manage and access data in a way that is efficient both in terms of time and space. Examples of data structures include lists, arrays, stacks, queues, trees, and graphs.\n",
        "\n",
        "2. Explain the difference between mutable and immutable data types with examples.\n",
        "\n",
        "Answer:\n",
        "\n",
        "Mutable data types are data types that can be changed or modified after their creation. Example: lists, dictionaries, sets.\n",
        "\n",
        "Immutable data types cannot be changed after their creation. Example: strings, tuples, frozensets.\n",
        "\n",
        "3. What are the main differences between lists and tuples in Python?\n",
        "\n",
        "Answer:\n",
        "\n",
        "Lists are mutable (can be changed after creation), and they are defined using square brackets []. They allow modification of elements, adding/removing items, and support methods like append() and remove().\n",
        "\n",
        "Tuples are immutable (cannot be changed after creation), and they are defined using parentheses (). Once created, you cannot modify their elements, making them more efficient in terms of performance.\n",
        "\n",
        "4. Describe how dictionaries store data.\n",
        "\n",
        "Answer:\n",
        "Dictionaries in Python store data in key-value pairs, where each key is unique and maps to a specific value. The data is stored in a hash table, where the key is hashed to quickly retrieve the associated value. Example: my_dict = {\"name\": \"Alice\", \"age\": 25}.\n",
        "\n",
        "5. Why might you use a set instead of a list in Python?\n",
        "\n",
        "Answer:\n",
        "You would use a set instead of a list when you need to store unique values and do not care about the order of elements. Sets automatically remove duplicates and are faster than lists for membership testing (i.e., checking if an item is in the set).\n",
        "\n",
        "6. What is a string in Python, and how is it different from a list?\n",
        "\n",
        "Answer:\n",
        "A string in Python is a sequence of characters enclosed in quotes (e.g., \"hello\"). It is immutable, meaning its contents cannot be changed once created. In contrast, a list is a sequence of any type of elements and is mutable, meaning elements can be added, removed, or modified.\n",
        "\n",
        "7. How do tuples ensure data integrity in Python?\n",
        "\n",
        "Answer:\n",
        "Tuples ensure data integrity by being immutable, meaning once they are created, their elements cannot be modified, added, or removed. This makes them ideal for storing fixed collections of data that should not be altered.\n",
        "\n",
        "8. What is a hash table, and how does it relate to dictionaries in Python?\n",
        "\n",
        "Answer:\n",
        "A hash table is a data structure that stores key-value pairs in a way that allows for fast retrieval. In Python, dictionaries use a hash table internally, where the key is hashed to an index that allows quick access to the corresponding value.\n",
        "\n",
        "9. Can lists contain different data types in Python?\n",
        "\n",
        "Answer:\n",
        "Yes, lists in Python can contain elements of different data types. For example, a list can store integers, strings, and other lists: my_list = [1, \"apple\", [2, 3]].\n",
        "\n",
        "10. Explain why strings are immutable in Python.\n",
        "\n",
        "Answer:\n",
        "Strings are immutable in Python to ensure consistency and efficiency in memory management. Since strings are widely used, making them immutable ensures that their data cannot be modified unexpectedly, which helps prevent errors. It also allows strings to be shared and reused efficiently in memory.\n",
        "\n",
        "11. What advantages do dictionaries offer over lists for certain tasks?\n",
        "\n",
        "Answer:\n",
        "Dictionaries offer faster lookups, additions, and deletions compared to lists, especially when the data is accessed via keys. They provide constant time complexity (O(1)) for these operations, whereas lists require linear time (O(n)) when searching for elements.\n",
        "\n",
        "12. Describe a scenario where using a tuple would be preferable over a list.\n",
        "\n",
        "Answer:\n",
        "Using a tuple would be preferable when you need to ensure that the data cannot be changed. For example, if you have coordinates (x, y) that should remain constant throughout the program, using a tuple would prevent accidental modification of those values.\n",
        "\n",
        "13. How do sets handle duplicate values in Python?\n",
        "\n",
        "Answer:\n",
        "Sets automatically eliminate duplicate values. If you try to add a duplicate item to a set, it will be ignored. For example, adding {1, 2, 2, 3} results in the set {1, 2, 3}.\n",
        "\n",
        "14. How does the “in” keyword work differently for lists and dictionaries?\n",
        "\n",
        "Answer:\n",
        "\n",
        "In lists, the in keyword checks if an element exists in the list, performing a linear search.\n",
        "\n",
        "In dictionaries, the in keyword checks if a key exists in the dictionary, performing a hash lookup, which is typically faster than searching a list.\n",
        "\n",
        "15. Can you modify the elements of a tuple? Explain why or why not.\n",
        "\n",
        "Answer:\n",
        "No, you cannot modify the elements of a tuple because tuples are immutable. Once created, their values cannot be altered, added, or removed to maintain data integrity and efficiency.\n",
        "\n",
        "16. What is a nested dictionary, and give an example of its use case?\n",
        "\n",
        "Answer:\n",
        "A nested dictionary is a dictionary that contains another dictionary as a value. It is useful when you need to store hierarchical or multi-level data. Example:\n",
        "\n",
        "python\n",
        "Copy\n",
        "nested_dict = {\"person\": {\"name\": \"John\", \"age\": 30}, \"city\": \"New York\"}\n",
        "17. Describe the time complexity of accessing elements in a dictionary.\n",
        "\n",
        "Answer:\n",
        "Accessing elements in a dictionary is done in constant time (O(1)) on average, as dictionaries use a hash table for efficient lookups. This means retrieving a value based on a key is very fast.\n",
        "\n",
        "18. In what situations are lists preferred over dictionaries?\n",
        "\n",
        "Answer:\n",
        "Lists are preferred when the order of elements matters, and you need to store multiple items that can be accessed by their position (index). Lists are also useful when you need to store collections of similar items.\n",
        "\n",
        "19. Why are dictionaries considered unordered, and how does that affect data retrieval?\n",
        "\n",
        "Answer:\n",
        "Dictionaries are considered unordered because the order of the key-value pairs is not guaranteed to be consistent across runs of the program. This does not affect retrieval since access to values is done via keys, not by order.\n",
        "\n",
        "20. Explain the difference between a list and a dictionary in terms of data retrieval.\n",
        "\n",
        "Answer:\n",
        "\n",
        "In a list, data is retrieved by index, meaning you need to know the position of an element to access it.\n",
        "\n",
        "In a dictionary, data is retrieved by key, meaning you access values using a unique identifier (the key), making it faster for certain types of data retrieval tasks.'''\n"
      ],
      "metadata": {
        "id": "LnGL0rYSzAaQ"
      }
    },
    {
      "cell_type": "code",
      "source": [
        "#1. Write a code to create a string with your name and print it:\n",
        "name = \"Vivek Singh\"\n",
        "print(name)\n"
      ],
      "metadata": {
        "colab": {
          "base_uri": "https://localhost:8080/"
        },
        "id": "Y_nFHxbWzGaw",
        "outputId": "12e7b1a6-ed1e-427e-bf5b-862b3c598bca"
      },
      "execution_count": null,
      "outputs": [
        {
          "output_type": "stream",
          "name": "stdout",
          "text": [
            "Vivek Singh\n"
          ]
        }
      ]
    },
    {
      "cell_type": "code",
      "source": [
        "#2. Write a code to find the length of the string \"Hello World\":\n",
        "string = \"Hello World\"\n",
        "length = len(string)\n",
        "print(length)\n"
      ],
      "metadata": {
        "colab": {
          "base_uri": "https://localhost:8080/"
        },
        "id": "Dx2D3C8y0-lA",
        "outputId": "38bbda26-3bd3-47ae-b3cb-9c216082a4b3"
      },
      "execution_count": null,
      "outputs": [
        {
          "output_type": "stream",
          "name": "stdout",
          "text": [
            "11\n"
          ]
        }
      ]
    },
    {
      "cell_type": "code",
      "source": [
        "#3. Write a code to slice the first 3 characters from the string \"Python Programming\":\n",
        "string = \"Python Programming\"\n",
        "sliced_string = string[:3]\n",
        "print(sliced_string)\n"
      ],
      "metadata": {
        "colab": {
          "base_uri": "https://localhost:8080/"
        },
        "id": "Vr9SgMrS1BKo",
        "outputId": "b4e3bf7e-0253-44f8-a950-05251ac80dab"
      },
      "execution_count": null,
      "outputs": [
        {
          "output_type": "stream",
          "name": "stdout",
          "text": [
            "Pyt\n"
          ]
        }
      ]
    },
    {
      "cell_type": "code",
      "source": [
        "#4. Write a code to convert the string \"hello\" to uppercase:\n",
        "string = \"hello\"\n",
        "uppercase_string = string.upper()\n",
        "print(uppercase_string)\n"
      ],
      "metadata": {
        "colab": {
          "base_uri": "https://localhost:8080/"
        },
        "id": "RkYR0r9w1D_Y",
        "outputId": "04f8dbfd-8fb7-4730-fb35-894a370302a1"
      },
      "execution_count": null,
      "outputs": [
        {
          "output_type": "stream",
          "name": "stdout",
          "text": [
            "HELLO\n"
          ]
        }
      ]
    },
    {
      "cell_type": "code",
      "source": [
        "#5. Write a code to replace the word \"apple\" with \"orange\" in the string \"I like apple\":\n",
        "string = \"I like apple\"\n",
        "new_string = string.replace(\"apple\", \"orange\")\n",
        "print(new_string)\n"
      ],
      "metadata": {
        "colab": {
          "base_uri": "https://localhost:8080/"
        },
        "id": "bGOFlGWI1HRo",
        "outputId": "c9af4f08-1078-434a-c3fe-06070a1885d9"
      },
      "execution_count": null,
      "outputs": [
        {
          "output_type": "stream",
          "name": "stdout",
          "text": [
            "I like orange\n"
          ]
        }
      ]
    },
    {
      "cell_type": "code",
      "source": [
        "#6. Write a code to create a list with numbers 1 to 5 and print it:\n",
        "numbers = [1, 2, 3, 4, 5]\n",
        "print(numbers)\n"
      ],
      "metadata": {
        "colab": {
          "base_uri": "https://localhost:8080/"
        },
        "id": "vFUyllsQ1L84",
        "outputId": "e1d61070-b7ac-4d37-9136-22a0e1e92419"
      },
      "execution_count": null,
      "outputs": [
        {
          "output_type": "stream",
          "name": "stdout",
          "text": [
            "[1, 2, 3, 4, 5]\n"
          ]
        }
      ]
    },
    {
      "cell_type": "code",
      "source": [
        "#7. Write a code to append the number 10 to the list [1, 2, 3, 4]:\n",
        "numbers = [1, 2, 3, 4]\n",
        "numbers.append(10)\n",
        "print(numbers)\n"
      ],
      "metadata": {
        "colab": {
          "base_uri": "https://localhost:8080/"
        },
        "id": "bLVullfv1PDY",
        "outputId": "8ac1b1df-e21b-4b4b-b959-7334294b446c"
      },
      "execution_count": null,
      "outputs": [
        {
          "output_type": "stream",
          "name": "stdout",
          "text": [
            "[1, 2, 3, 4, 10]\n"
          ]
        }
      ]
    },
    {
      "cell_type": "code",
      "source": [
        "#8. Write a code to remove the number 3 from the list [1, 2, 3, 4, 5]:\n",
        "numbers = [1, 2, 3, 4, 5]\n",
        "numbers.remove(3)\n",
        "print(numbers)\n"
      ],
      "metadata": {
        "colab": {
          "base_uri": "https://localhost:8080/"
        },
        "id": "v0BaZST11Yeo",
        "outputId": "69527034-daa4-4652-8738-aa0805bda126"
      },
      "execution_count": null,
      "outputs": [
        {
          "output_type": "stream",
          "name": "stdout",
          "text": [
            "[1, 2, 4, 5]\n"
          ]
        }
      ]
    },
    {
      "cell_type": "code",
      "source": [
        "#9. Write a code to access the second element in the list ['a', 'b', 'c', 'd']:\n",
        "letters = ['a', 'b', 'c', 'd']\n",
        "second_element = letters[1]\n",
        "print(second_element)\n"
      ],
      "metadata": {
        "colab": {
          "base_uri": "https://localhost:8080/"
        },
        "id": "FnrNNA631cqY",
        "outputId": "77413e2c-dadb-4664-b5a2-8d7baeaf3574"
      },
      "execution_count": null,
      "outputs": [
        {
          "output_type": "stream",
          "name": "stdout",
          "text": [
            "b\n"
          ]
        }
      ]
    },
    {
      "cell_type": "code",
      "source": [
        "#10. Write a code to reverse the list [10, 20, 30, 40, 50]:\n",
        "numbers = [10, 20, 30, 40, 50]\n",
        "numbers.reverse()\n",
        "print(numbers)\n"
      ],
      "metadata": {
        "colab": {
          "base_uri": "https://localhost:8080/"
        },
        "id": "dwyZ9Ane1kPx",
        "outputId": "2c4d21c5-10ef-4cb9-e64e-2a43a95366f1"
      },
      "execution_count": null,
      "outputs": [
        {
          "output_type": "stream",
          "name": "stdout",
          "text": [
            "[50, 40, 30, 20, 10]\n"
          ]
        }
      ]
    },
    {
      "cell_type": "code",
      "source": [
        "#11. Write a code to create a tuple with the elements 100, 200, 300 and print it:\n",
        "tuple_example = (100, 200, 300)\n",
        "print(tuple_example)\n"
      ],
      "metadata": {
        "colab": {
          "base_uri": "https://localhost:8080/"
        },
        "id": "piXGtdHp1pRQ",
        "outputId": "c29d2b13-8101-48ba-e389-96731eda6cc6"
      },
      "execution_count": null,
      "outputs": [
        {
          "output_type": "stream",
          "name": "stdout",
          "text": [
            "(100, 200, 300)\n"
          ]
        }
      ]
    },
    {
      "cell_type": "code",
      "source": [
        "#12. Write a code to access the second-to-last element of the tuple ('red', 'green', 'blue', 'yellow'):\n",
        "tuple_example = ('red', 'green', 'blue', 'yellow')\n",
        "second_to_last = tuple_example[-2]\n",
        "print(second_to_last)\n"
      ],
      "metadata": {
        "colab": {
          "base_uri": "https://localhost:8080/"
        },
        "id": "l4xsCb2m1wqI",
        "outputId": "db424f00-e890-4a97-9818-7f99395261d4"
      },
      "execution_count": null,
      "outputs": [
        {
          "output_type": "stream",
          "name": "stdout",
          "text": [
            "blue\n"
          ]
        }
      ]
    },
    {
      "cell_type": "code",
      "source": [
        "\n",
        "#13. Write a code to find the minimum number in the tuple (10, 20, 5, 15):\n",
        "numbers = (10, 20, 5, 15)\n",
        "min_number = min(numbers)\n",
        "print(min_number)\n"
      ],
      "metadata": {
        "colab": {
          "base_uri": "https://localhost:8080/"
        },
        "id": "8XFGosrE1y7Q",
        "outputId": "3e3c3eb2-a045-4c6f-e75f-b90cfa6d613c"
      },
      "execution_count": null,
      "outputs": [
        {
          "output_type": "stream",
          "name": "stdout",
          "text": [
            "5\n"
          ]
        }
      ]
    },
    {
      "cell_type": "code",
      "source": [
        "#14. Write a code to find the index of the element \"cat\" in the tuple ('dog', 'cat', 'rabbit'):\n",
        "animals = ('dog', 'cat', 'rabbit')\n",
        "index_of_cat = animals.index('cat')\n",
        "print(index_of_cat)\n"
      ],
      "metadata": {
        "colab": {
          "base_uri": "https://localhost:8080/"
        },
        "id": "NgSPEaVn17BA",
        "outputId": "c3dd6fe2-35fa-432a-d45c-86b0a8ed3b1f"
      },
      "execution_count": null,
      "outputs": [
        {
          "output_type": "stream",
          "name": "stdout",
          "text": [
            "1\n"
          ]
        }
      ]
    },
    {
      "cell_type": "code",
      "source": [
        "#15. Write a code to create a tuple containing three different fruits and check if \"kiwi\" is in it:\n",
        "fruits = ('apple', 'banana', 'orange')\n",
        "is_kiwi_in_tuple = 'kiwi' in fruits\n",
        "print(is_kiwi_in_tuple)\n"
      ],
      "metadata": {
        "colab": {
          "base_uri": "https://localhost:8080/"
        },
        "id": "ANCUS1SN2EJQ",
        "outputId": "b926e98b-b491-4c1b-a2a4-3d5aac1e247a"
      },
      "execution_count": null,
      "outputs": [
        {
          "output_type": "stream",
          "name": "stdout",
          "text": [
            "False\n"
          ]
        }
      ]
    },
    {
      "cell_type": "code",
      "source": [
        "#16. Write a code to create a set with the elements 'a', 'b', 'c' and print it:\n",
        "letters = {'a', 'b', 'c'}\n",
        "print(letters)\n"
      ],
      "metadata": {
        "colab": {
          "base_uri": "https://localhost:8080/"
        },
        "id": "ue3PcNjt2GtA",
        "outputId": "ce3e5404-8a74-4383-9f47-37aede1d0b80"
      },
      "execution_count": null,
      "outputs": [
        {
          "output_type": "stream",
          "name": "stdout",
          "text": [
            "{'b', 'c', 'a'}\n"
          ]
        }
      ]
    },
    {
      "cell_type": "code",
      "source": [
        "#17. Write a code to clear all elements from the set {1, 2, 3, 4, 5}:\n",
        "numbers_set = {1, 2, 3, 4, 5}\n",
        "numbers_set.clear()\n",
        "print(numbers_set)\n"
      ],
      "metadata": {
        "colab": {
          "base_uri": "https://localhost:8080/"
        },
        "id": "Cps773em2JKo",
        "outputId": "8f3ad814-f3d9-4b82-d844-bdbe8de4bf5c"
      },
      "execution_count": null,
      "outputs": [
        {
          "output_type": "stream",
          "name": "stdout",
          "text": [
            "set()\n"
          ]
        }
      ]
    },
    {
      "cell_type": "code",
      "source": [
        "#18. Write a code to remove the element 4 from the set {1, 2, 3, 4}:\n",
        "numbers_set = {1, 2, 3, 4}\n",
        "numbers_set.remove(4)\n",
        "print(numbers_set)\n"
      ],
      "metadata": {
        "colab": {
          "base_uri": "https://localhost:8080/"
        },
        "id": "Am82UHxO2NQI",
        "outputId": "464b4eff-0eea-4579-d8df-cfcfeaa973cf"
      },
      "execution_count": null,
      "outputs": [
        {
          "output_type": "stream",
          "name": "stdout",
          "text": [
            "{1, 2, 3}\n"
          ]
        }
      ]
    },
    {
      "cell_type": "code",
      "source": [
        "#19. Write a code to find the union of two sets {1, 2, 3} and {3, 4, 5}:\n",
        "set1 = {1, 2, 3}\n",
        "set2 = {3, 4, 5}\n",
        "union_set = set1.union(set2)\n",
        "print(union_set)\n"
      ],
      "metadata": {
        "colab": {
          "base_uri": "https://localhost:8080/"
        },
        "id": "OhVlUvDc2Sig",
        "outputId": "8e931c66-9417-4b9b-9db9-c6ed79431284"
      },
      "execution_count": null,
      "outputs": [
        {
          "output_type": "stream",
          "name": "stdout",
          "text": [
            "{1, 2, 3, 4, 5}\n"
          ]
        }
      ]
    },
    {
      "cell_type": "code",
      "source": [
        "#20. Write a code to find the intersection of two sets {1, 2, 3} and {2, 3, 4}:\n",
        "set1 = {1, 2, 3}\n",
        "set2 = {2, 3, 4}\n",
        "intersection_set = set1.intersection(set2)\n",
        "print(intersection_set)\n"
      ],
      "metadata": {
        "colab": {
          "base_uri": "https://localhost:8080/"
        },
        "id": "eWsAzNb02U4g",
        "outputId": "6002f1cd-1688-4175-a295-09b9d417119b"
      },
      "execution_count": null,
      "outputs": [
        {
          "output_type": "stream",
          "name": "stdout",
          "text": [
            "{2, 3}\n"
          ]
        }
      ]
    },
    {
      "cell_type": "code",
      "source": [
        "\n",
        "#21. Write a code to create a dictionary with the keys \"name\", \"age\", and \"city\", and print it:\n",
        "person = {\"name\": \"Alice\", \"age\": 30, \"city\": \"Paris\"}\n",
        "print(person)\n"
      ],
      "metadata": {
        "colab": {
          "base_uri": "https://localhost:8080/"
        },
        "id": "q17Z3lze2Yhh",
        "outputId": "e80f9238-7cb7-495a-da31-4f7f19f8d54f"
      },
      "execution_count": null,
      "outputs": [
        {
          "output_type": "stream",
          "name": "stdout",
          "text": [
            "{'name': 'Alice', 'age': 30, 'city': 'Paris'}\n"
          ]
        }
      ]
    },
    {
      "cell_type": "code",
      "source": [
        "#22. Write a code to add a new key-value pair \"country\": \"USA\" to the dictionary {'name': 'John', 'age': 25}:\n",
        "person = {'name': 'John', 'age': 25}\n",
        "person['country'] = 'USA'\n",
        "print(person)\n"
      ],
      "metadata": {
        "colab": {
          "base_uri": "https://localhost:8080/"
        },
        "id": "eaVr_AmO2aCA",
        "outputId": "92830a3b-4203-48c9-bde8-795adf96cab5"
      },
      "execution_count": null,
      "outputs": [
        {
          "output_type": "stream",
          "name": "stdout",
          "text": [
            "{'name': 'John', 'age': 25, 'country': 'USA'}\n"
          ]
        }
      ]
    },
    {
      "cell_type": "code",
      "source": [
        "#23. Write a code to access the value associated with the key \"name\" in the dictionary {'name': 'Alice', 'age': 30}:\n",
        "person = {'name': 'Alice', 'age': 30}\n",
        "name_value = person['name']\n",
        "print(name_value)\n"
      ],
      "metadata": {
        "colab": {
          "base_uri": "https://localhost:8080/"
        },
        "id": "vl0bpgiy2fgQ",
        "outputId": "22f7b4ca-b93c-4423-ea54-7596e1fd77e0"
      },
      "execution_count": null,
      "outputs": [
        {
          "output_type": "stream",
          "name": "stdout",
          "text": [
            "Alice\n"
          ]
        }
      ]
    },
    {
      "cell_type": "code",
      "source": [
        "#24. Write a code to remove the key \"age\" from the dictionary {'name': 'Bob', 'age': 22, 'city': 'New York'}:\n",
        "person = {'name': 'Bob', 'age': 22, 'city': 'New York'}\n",
        "person.pop('age')\n",
        "print(person)\n"
      ],
      "metadata": {
        "colab": {
          "base_uri": "https://localhost:8080/"
        },
        "id": "mWu5JqXW2rq4",
        "outputId": "f107ecc5-96c5-458a-cd92-829b2543ae2d"
      },
      "execution_count": null,
      "outputs": [
        {
          "output_type": "stream",
          "name": "stdout",
          "text": [
            "{'name': 'Bob', 'city': 'New York'}\n"
          ]
        }
      ]
    },
    {
      "cell_type": "code",
      "source": [
        "#25. Write a code to check if the key \"city\" exists in the dictionary {'name': 'Alice', 'city': 'Paris'}:\n",
        "person = {'name': 'Alice', 'city': 'Paris'}\n",
        "has_city = 'city' in person\n",
        "print(has_city)\n"
      ],
      "metadata": {
        "colab": {
          "base_uri": "https://localhost:8080/"
        },
        "id": "vaiexBrD2uAo",
        "outputId": "f094c8d3-73b7-4f65-8e46-54dc24699e20"
      },
      "execution_count": null,
      "outputs": [
        {
          "output_type": "stream",
          "name": "stdout",
          "text": [
            "True\n"
          ]
        }
      ]
    },
    {
      "cell_type": "code",
      "source": [
        "#26. Write a code to create a list, a tuple, and a dictionary, and print them all:\n",
        "my_list = [1, 2, 3]\n",
        "my_tuple = ('apple', 'banana', 'orange')\n",
        "my_dict = {'name': 'John', 'age': 25}\n",
        "print(my_list, my_tuple, my_dict)\n"
      ],
      "metadata": {
        "colab": {
          "base_uri": "https://localhost:8080/"
        },
        "id": "pnqgkS002wTx",
        "outputId": "e1ec8afb-37ad-47da-d6c8-08954a6eeb31"
      },
      "execution_count": null,
      "outputs": [
        {
          "output_type": "stream",
          "name": "stdout",
          "text": [
            "[1, 2, 3] ('apple', 'banana', 'orange') {'name': 'John', 'age': 25}\n"
          ]
        }
      ]
    },
    {
      "cell_type": "code",
      "source": [
        "#27. Write a code to create a list of 5 random numbers between 1 and 100, sort it in ascending order, and print the result:\n",
        "import random\n",
        "random_numbers = random.sample(range(1, 101), 5)\n",
        "random_numbers.sort()\n",
        "print(random_numbers)\n"
      ],
      "metadata": {
        "colab": {
          "base_uri": "https://localhost:8080/"
        },
        "id": "ei4KD8-42yYI",
        "outputId": "f51185f2-baeb-4f03-cc50-28d853a0c216"
      },
      "execution_count": null,
      "outputs": [
        {
          "output_type": "stream",
          "name": "stdout",
          "text": [
            "[38, 51, 63, 86, 96]\n"
          ]
        }
      ]
    },
    {
      "cell_type": "code",
      "source": [
        "#28. Write a code to create a list with strings and print the element at the third index:\n",
        "words = ['apple', 'banana', 'cherry', 'date', 'elderberry']\n",
        "third_element = words[3]\n",
        "print(third_element)\n"
      ],
      "metadata": {
        "colab": {
          "base_uri": "https://localhost:8080/"
        },
        "id": "vL3S-8LS206w",
        "outputId": "af9bccf6-6b63-496e-eee5-d75bf4c207bd"
      },
      "execution_count": null,
      "outputs": [
        {
          "output_type": "stream",
          "name": "stdout",
          "text": [
            "date\n"
          ]
        }
      ]
    },
    {
      "cell_type": "code",
      "source": [
        "#29. Write a code to combine two dictionaries into one and print the result:\n",
        "dict1 = {'a': 1, 'b': 2}\n",
        "dict2 = {'c': 3, 'd': 4}\n",
        "combined_dict = {**dict1, **dict2}\n",
        "print(combined_dict)\n"
      ],
      "metadata": {
        "colab": {
          "base_uri": "https://localhost:8080/"
        },
        "id": "fVdyhOsE2-ZY",
        "outputId": "c75fc57c-cdd8-4a02-b5dd-b49ecfc950c3"
      },
      "execution_count": null,
      "outputs": [
        {
          "output_type": "stream",
          "name": "stdout",
          "text": [
            "{'a': 1, 'b': 2, 'c': 3, 'd': 4}\n"
          ]
        }
      ]
    },
    {
      "cell_type": "code",
      "source": [
        "#30. Write a code to convert a list of strings into a set:\n",
        "string_list = ['apple', 'banana', 'cherry', 'apple']\n",
        "string_set = set(string_list)\n",
        "print(string_set)\n",
        "\n"
      ],
      "metadata": {
        "id": "dTZ9IgJ43HzB",
        "outputId": "a2d26962-8906-4a17-865f-319a8811759b",
        "colab": {
          "base_uri": "https://localhost:8080/"
        }
      },
      "execution_count": null,
      "outputs": [
        {
          "output_type": "stream",
          "name": "stdout",
          "text": [
            "{'cherry', 'banana', 'apple'}\n"
          ]
        }
      ]
    }
  ]
}